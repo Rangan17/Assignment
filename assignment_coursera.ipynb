{
 "cells": [
  {
   "cell_type": "markdown",
   "id": "644ffccb-8c07-43e5-b456-40812bfc7897",
   "metadata": {},
   "source": [
    "Assignment "
   ]
  },
  {
   "cell_type": "markdown",
   "id": "eaf3187f-e648-4827-a542-d963bae100b8",
   "metadata": {},
   "source": [
    "Introduction"
   ]
  },
  {
   "cell_type": "markdown",
   "id": "50cc3d78-9b3d-4615-a800-34c2a8de26e4",
   "metadata": {},
   "source": [
    "Data Science Language:\n",
    "Python\n",
    "R"
   ]
  },
  {
   "cell_type": "markdown",
   "id": "3ffe8b10-d44c-45b3-bc9e-9d7bf5e65fda",
   "metadata": {},
   "source": [
    "data science librabries:\n",
    "Pytorch  Tensorflow pandas numpy matplotlib seaborn scikit-learn"
   ]
  },
  {
   "cell_type": "markdown",
   "id": "fa5860de-268e-408a-943d-3c8a7f346dab",
   "metadata": {},
   "source": [
    "data science tools:\n",
    "Plotly  PowerBI  Tableau Watson"
   ]
  },
  {
   "cell_type": "markdown",
   "id": "6b25ee52-5caf-4c95-992d-448d9f7a06e8",
   "metadata": {},
   "source": [
    "Addition (+): Combines two values.\n",
    "Example: 2 + 3 = 5\n",
    "Subtraction (-): Finds the difference between two values.\n",
    "Example: 7 - 4 = 3\n",
    "Multiplication (*): Finds the product of two values.\n",
    "Example: 5 * 6 = 30\n",
    "Division (/): Finds the quotient of two values.\n",
    "Example: 10 / 2 = 5"
   ]
  },
  {
   "cell_type": "code",
   "execution_count": 1,
   "id": "10af48f2-8ce2-41d7-b462-85fcf26c521b",
   "metadata": {},
   "outputs": [
    {
     "name": "stdout",
     "output_type": "stream",
     "text": [
      "Product: 15\n",
      "Sum: 8\n"
     ]
    }
   ],
   "source": [
    "num1 = 5\n",
    "num2 = 3\n",
    "\n",
    "product = num1 * num2\n",
    "\n",
    "sum = num1 + num2\n",
    "\n",
    "print(\"Product:\", product)\n",
    "print(\"Sum:\", sum) "
   ]
  },
  {
   "cell_type": "code",
   "execution_count": 3,
   "id": "f51c2fe0-a3f3-4c82-8a4c-f0600dea3418",
   "metadata": {},
   "outputs": [
    {
     "name": "stdout",
     "output_type": "stream",
     "text": [
      "150 minutes is equal to 2.5 hours.\n"
     ]
    }
   ],
   "source": [
    "def minutes_to_hours(minutes):\n",
    "  return minutes / 60\n",
    "\n",
    "total_minutes = 150\n",
    "hours = minutes_to_hours(total_minutes)\n",
    "print(f\"{total_minutes} minutes is equal to {hours} hours.\")"
   ]
  },
  {
   "cell_type": "markdown",
   "id": "652fa55d-0d7b-4c46-8bdf-78e1ee9af3b3",
   "metadata": {},
   "source": [
    "Objectives:\n",
    "learn the basics of data science \n",
    "how data scientist works \n",
    "the libraries used \n"
   ]
  },
  {
   "cell_type": "markdown",
   "id": "b1bb1a19-5a60-46df-ae58-93f927bc35de",
   "metadata": {},
   "source": [
    "Rangan Satpathi"
   ]
  }
 ],
 "metadata": {
  "kernelspec": {
   "display_name": "Python 3 (ipykernel)",
   "language": "python",
   "name": "python3"
  },
  "language_info": {
   "codemirror_mode": {
    "name": "ipython",
    "version": 3
   },
   "file_extension": ".py",
   "mimetype": "text/x-python",
   "name": "python",
   "nbconvert_exporter": "python",
   "pygments_lexer": "ipython3",
   "version": "3.12.4"
  }
 },
 "nbformat": 4,
 "nbformat_minor": 5
}
